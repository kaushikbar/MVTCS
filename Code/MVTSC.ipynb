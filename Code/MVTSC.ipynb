{
 "cells": [
  {
   "cell_type": "markdown",
   "metadata": {},
   "source": [
    "# Imports"
   ]
  },
  {
   "cell_type": "code",
   "execution_count": 75,
   "metadata": {
    "ExecuteTime": {
     "end_time": "2019-04-29T11:48:22.599879Z",
     "start_time": "2019-04-29T11:48:22.584257Z"
    }
   },
   "outputs": [],
   "source": [
    "import numpy as np\n",
    "import pandas as pd\n",
    "\n",
    "from scipy.spatial.distance import euclidean, cdist"
   ]
  },
  {
   "cell_type": "markdown",
   "metadata": {},
   "source": [
    "# Load the data"
   ]
  },
  {
   "cell_type": "code",
   "execution_count": 34,
   "metadata": {
    "ExecuteTime": {
     "end_time": "2019-04-29T09:56:34.326338Z",
     "start_time": "2019-04-29T09:56:34.295285Z"
    }
   },
   "outputs": [
    {
     "name": "stdout",
     "output_type": "stream",
     "text": [
      "what is vaping: (India)    int64\n",
      "is vaping safe: (India)    int64\n",
      "vaping shop: (India)       int64\n",
      "vaping device: (India)     int64\n",
      "dtype: object\n"
     ]
    },
    {
     "data": {
      "text/html": [
       "<div>\n",
       "<style scoped>\n",
       "    .dataframe tbody tr th:only-of-type {\n",
       "        vertical-align: middle;\n",
       "    }\n",
       "\n",
       "    .dataframe tbody tr th {\n",
       "        vertical-align: top;\n",
       "    }\n",
       "\n",
       "    .dataframe thead th {\n",
       "        text-align: right;\n",
       "    }\n",
       "</style>\n",
       "<table border=\"1\" class=\"dataframe\">\n",
       "  <thead>\n",
       "    <tr style=\"text-align: right;\">\n",
       "      <th></th>\n",
       "      <th>what is vaping: (India)</th>\n",
       "      <th>is vaping safe: (India)</th>\n",
       "      <th>vaping shop: (India)</th>\n",
       "      <th>vaping device: (India)</th>\n",
       "    </tr>\n",
       "    <tr>\n",
       "      <th>Month</th>\n",
       "      <th></th>\n",
       "      <th></th>\n",
       "      <th></th>\n",
       "      <th></th>\n",
       "    </tr>\n",
       "  </thead>\n",
       "  <tbody>\n",
       "    <tr>\n",
       "      <th>2004-01-01</th>\n",
       "      <td>0</td>\n",
       "      <td>0</td>\n",
       "      <td>0</td>\n",
       "      <td>0</td>\n",
       "    </tr>\n",
       "    <tr>\n",
       "      <th>2004-02-01</th>\n",
       "      <td>0</td>\n",
       "      <td>0</td>\n",
       "      <td>0</td>\n",
       "      <td>0</td>\n",
       "    </tr>\n",
       "    <tr>\n",
       "      <th>2004-03-01</th>\n",
       "      <td>0</td>\n",
       "      <td>0</td>\n",
       "      <td>0</td>\n",
       "      <td>0</td>\n",
       "    </tr>\n",
       "    <tr>\n",
       "      <th>2004-04-01</th>\n",
       "      <td>0</td>\n",
       "      <td>0</td>\n",
       "      <td>0</td>\n",
       "      <td>0</td>\n",
       "    </tr>\n",
       "    <tr>\n",
       "      <th>2004-05-01</th>\n",
       "      <td>0</td>\n",
       "      <td>0</td>\n",
       "      <td>0</td>\n",
       "      <td>0</td>\n",
       "    </tr>\n",
       "  </tbody>\n",
       "</table>\n",
       "</div>"
      ],
      "text/plain": [
       "            what is vaping: (India)  is vaping safe: (India)  \\\n",
       "Month                                                          \n",
       "2004-01-01                        0                        0   \n",
       "2004-02-01                        0                        0   \n",
       "2004-03-01                        0                        0   \n",
       "2004-04-01                        0                        0   \n",
       "2004-05-01                        0                        0   \n",
       "\n",
       "            vaping shop: (India)  vaping device: (India)  \n",
       "Month                                                     \n",
       "2004-01-01                     0                       0  \n",
       "2004-02-01                     0                       0  \n",
       "2004-03-01                     0                       0  \n",
       "2004-04-01                     0                       0  \n",
       "2004-05-01                     0                       0  "
      ]
     },
     "execution_count": 34,
     "metadata": {},
     "output_type": "execute_result"
    }
   ],
   "source": [
    "india = pd.read_csv(\"../Data/India.csv\", skiprows=2)\n",
    "india['Month'] = pd.to_datetime(india['Month'], infer_datetime_format=True)\n",
    "india = india.set_index(['Month'])\n",
    "india.sort_index(inplace=True)\n",
    "print(india.dtypes)\n",
    "india.head()"
   ]
  },
  {
   "cell_type": "code",
   "execution_count": 35,
   "metadata": {
    "ExecuteTime": {
     "end_time": "2019-04-29T09:56:39.916553Z",
     "start_time": "2019-04-29T09:56:39.869688Z"
    }
   },
   "outputs": [
    {
     "name": "stdout",
     "output_type": "stream",
     "text": [
      "what is vaping: (United Kingdom)    int64\n",
      "is vaping safe: (United Kingdom)    int64\n",
      "vaping shop: (United Kingdom)       int64\n",
      "vaping device: (United Kingdom)     int64\n",
      "dtype: object\n"
     ]
    },
    {
     "data": {
      "text/html": [
       "<div>\n",
       "<style scoped>\n",
       "    .dataframe tbody tr th:only-of-type {\n",
       "        vertical-align: middle;\n",
       "    }\n",
       "\n",
       "    .dataframe tbody tr th {\n",
       "        vertical-align: top;\n",
       "    }\n",
       "\n",
       "    .dataframe thead th {\n",
       "        text-align: right;\n",
       "    }\n",
       "</style>\n",
       "<table border=\"1\" class=\"dataframe\">\n",
       "  <thead>\n",
       "    <tr style=\"text-align: right;\">\n",
       "      <th></th>\n",
       "      <th>what is vaping: (United Kingdom)</th>\n",
       "      <th>is vaping safe: (United Kingdom)</th>\n",
       "      <th>vaping shop: (United Kingdom)</th>\n",
       "      <th>vaping device: (United Kingdom)</th>\n",
       "    </tr>\n",
       "    <tr>\n",
       "      <th>Month</th>\n",
       "      <th></th>\n",
       "      <th></th>\n",
       "      <th></th>\n",
       "      <th></th>\n",
       "    </tr>\n",
       "  </thead>\n",
       "  <tbody>\n",
       "    <tr>\n",
       "      <th>2004-01-01</th>\n",
       "      <td>0</td>\n",
       "      <td>0</td>\n",
       "      <td>0</td>\n",
       "      <td>0</td>\n",
       "    </tr>\n",
       "    <tr>\n",
       "      <th>2004-02-01</th>\n",
       "      <td>0</td>\n",
       "      <td>0</td>\n",
       "      <td>0</td>\n",
       "      <td>0</td>\n",
       "    </tr>\n",
       "    <tr>\n",
       "      <th>2004-03-01</th>\n",
       "      <td>0</td>\n",
       "      <td>0</td>\n",
       "      <td>0</td>\n",
       "      <td>0</td>\n",
       "    </tr>\n",
       "    <tr>\n",
       "      <th>2004-04-01</th>\n",
       "      <td>0</td>\n",
       "      <td>0</td>\n",
       "      <td>0</td>\n",
       "      <td>0</td>\n",
       "    </tr>\n",
       "    <tr>\n",
       "      <th>2004-05-01</th>\n",
       "      <td>0</td>\n",
       "      <td>0</td>\n",
       "      <td>0</td>\n",
       "      <td>0</td>\n",
       "    </tr>\n",
       "  </tbody>\n",
       "</table>\n",
       "</div>"
      ],
      "text/plain": [
       "            what is vaping: (United Kingdom)  \\\n",
       "Month                                          \n",
       "2004-01-01                                 0   \n",
       "2004-02-01                                 0   \n",
       "2004-03-01                                 0   \n",
       "2004-04-01                                 0   \n",
       "2004-05-01                                 0   \n",
       "\n",
       "            is vaping safe: (United Kingdom)  vaping shop: (United Kingdom)  \\\n",
       "Month                                                                         \n",
       "2004-01-01                                 0                              0   \n",
       "2004-02-01                                 0                              0   \n",
       "2004-03-01                                 0                              0   \n",
       "2004-04-01                                 0                              0   \n",
       "2004-05-01                                 0                              0   \n",
       "\n",
       "            vaping device: (United Kingdom)  \n",
       "Month                                        \n",
       "2004-01-01                                0  \n",
       "2004-02-01                                0  \n",
       "2004-03-01                                0  \n",
       "2004-04-01                                0  \n",
       "2004-05-01                                0  "
      ]
     },
     "execution_count": 35,
     "metadata": {},
     "output_type": "execute_result"
    }
   ],
   "source": [
    "uk = pd.read_csv(\"../Data/UK.csv\", skiprows=2)\n",
    "uk['Month'] = pd.to_datetime(uk['Month'], infer_datetime_format=True)\n",
    "uk = uk.set_index(['Month'])\n",
    "uk.sort_index(inplace=True)\n",
    "print(uk.dtypes)\n",
    "uk.head()"
   ]
  },
  {
   "cell_type": "code",
   "execution_count": 36,
   "metadata": {
    "ExecuteTime": {
     "end_time": "2019-04-29T09:56:44.106920Z",
     "start_time": "2019-04-29T09:56:44.075678Z"
    }
   },
   "outputs": [
    {
     "name": "stdout",
     "output_type": "stream",
     "text": [
      "what is vaping: (United States)     int64\n",
      "is vaping safe: (United States)     int64\n",
      "vaping shop: (United States)        int64\n",
      "vaping device: (United States)     object\n",
      "dtype: object\n"
     ]
    },
    {
     "data": {
      "text/html": [
       "<div>\n",
       "<style scoped>\n",
       "    .dataframe tbody tr th:only-of-type {\n",
       "        vertical-align: middle;\n",
       "    }\n",
       "\n",
       "    .dataframe tbody tr th {\n",
       "        vertical-align: top;\n",
       "    }\n",
       "\n",
       "    .dataframe thead th {\n",
       "        text-align: right;\n",
       "    }\n",
       "</style>\n",
       "<table border=\"1\" class=\"dataframe\">\n",
       "  <thead>\n",
       "    <tr style=\"text-align: right;\">\n",
       "      <th></th>\n",
       "      <th>what is vaping: (United States)</th>\n",
       "      <th>is vaping safe: (United States)</th>\n",
       "      <th>vaping shop: (United States)</th>\n",
       "      <th>vaping device: (United States)</th>\n",
       "    </tr>\n",
       "    <tr>\n",
       "      <th>Month</th>\n",
       "      <th></th>\n",
       "      <th></th>\n",
       "      <th></th>\n",
       "      <th></th>\n",
       "    </tr>\n",
       "  </thead>\n",
       "  <tbody>\n",
       "    <tr>\n",
       "      <th>2004-01-01</th>\n",
       "      <td>0</td>\n",
       "      <td>0</td>\n",
       "      <td>0</td>\n",
       "      <td>0</td>\n",
       "    </tr>\n",
       "    <tr>\n",
       "      <th>2004-02-01</th>\n",
       "      <td>0</td>\n",
       "      <td>0</td>\n",
       "      <td>0</td>\n",
       "      <td>0</td>\n",
       "    </tr>\n",
       "    <tr>\n",
       "      <th>2004-03-01</th>\n",
       "      <td>0</td>\n",
       "      <td>0</td>\n",
       "      <td>0</td>\n",
       "      <td>0</td>\n",
       "    </tr>\n",
       "    <tr>\n",
       "      <th>2004-04-01</th>\n",
       "      <td>0</td>\n",
       "      <td>0</td>\n",
       "      <td>0</td>\n",
       "      <td>0</td>\n",
       "    </tr>\n",
       "    <tr>\n",
       "      <th>2004-05-01</th>\n",
       "      <td>0</td>\n",
       "      <td>0</td>\n",
       "      <td>0</td>\n",
       "      <td>0</td>\n",
       "    </tr>\n",
       "  </tbody>\n",
       "</table>\n",
       "</div>"
      ],
      "text/plain": [
       "            what is vaping: (United States)  is vaping safe: (United States)  \\\n",
       "Month                                                                          \n",
       "2004-01-01                                0                                0   \n",
       "2004-02-01                                0                                0   \n",
       "2004-03-01                                0                                0   \n",
       "2004-04-01                                0                                0   \n",
       "2004-05-01                                0                                0   \n",
       "\n",
       "            vaping shop: (United States) vaping device: (United States)  \n",
       "Month                                                                    \n",
       "2004-01-01                             0                              0  \n",
       "2004-02-01                             0                              0  \n",
       "2004-03-01                             0                              0  \n",
       "2004-04-01                             0                              0  \n",
       "2004-05-01                             0                              0  "
      ]
     },
     "execution_count": 36,
     "metadata": {},
     "output_type": "execute_result"
    }
   ],
   "source": [
    "usa = pd.read_csv(\"../Data/USA.csv\", skiprows=2)\n",
    "usa['Month'] = pd.to_datetime(usa['Month'], infer_datetime_format=True)\n",
    "usa = usa.set_index(['Month'])\n",
    "usa.sort_index(inplace=True)\n",
    "print(usa.dtypes)\n",
    "usa.head()"
   ]
  },
  {
   "cell_type": "markdown",
   "metadata": {},
   "source": [
    "# Preprocess"
   ]
  },
  {
   "cell_type": "code",
   "execution_count": 37,
   "metadata": {
    "ExecuteTime": {
     "end_time": "2019-04-29T09:56:59.876296Z",
     "start_time": "2019-04-29T09:56:59.860675Z"
    }
   },
   "outputs": [],
   "source": [
    "usa.replace({'<1': 0}, inplace=True)"
   ]
  },
  {
   "cell_type": "markdown",
   "metadata": {},
   "source": [
    "# Similarity models"
   ]
  },
  {
   "cell_type": "markdown",
   "metadata": {},
   "source": [
    "## DTW"
   ]
  },
  {
   "cell_type": "code",
   "execution_count": 43,
   "metadata": {
    "ExecuteTime": {
     "end_time": "2019-04-29T10:17:56.252578Z",
     "start_time": "2019-04-29T10:17:56.237151Z"
    }
   },
   "outputs": [],
   "source": [
    "# https://nipunbatra.github.io/blog/2014/dtw.html"
   ]
  },
  {
   "cell_type": "markdown",
   "metadata": {},
   "source": [
    "## GAK"
   ]
  },
  {
   "cell_type": "code",
   "execution_count": 44,
   "metadata": {
    "ExecuteTime": {
     "end_time": "2019-04-29T10:41:38.884444Z",
     "start_time": "2019-04-29T10:41:38.868811Z"
    }
   },
   "outputs": [],
   "source": [
    "# https://web.sfc.wide.ad.jp/~kurosagi/public-posts/2017-04-11-global-alignment-kernels.html"
   ]
  },
  {
   "cell_type": "markdown",
   "metadata": {},
   "source": [
    "## FastDTW"
   ]
  },
  {
   "cell_type": "code",
   "execution_count": null,
   "metadata": {},
   "outputs": [],
   "source": [
    "# https://pypi.org/project/fastdtw/"
   ]
  },
  {
   "cell_type": "code",
   "execution_count": 62,
   "metadata": {
    "ExecuteTime": {
     "end_time": "2019-04-29T11:34:44.240885Z",
     "start_time": "2019-04-29T11:34:44.225262Z"
    }
   },
   "outputs": [],
   "source": [
    "from fastdtw import fastdtw"
   ]
  },
  {
   "cell_type": "markdown",
   "metadata": {},
   "source": [
    "### Full Data"
   ]
  },
  {
   "cell_type": "code",
   "execution_count": 38,
   "metadata": {
    "ExecuteTime": {
     "end_time": "2019-04-29T09:57:03.726229Z",
     "start_time": "2019-04-29T09:57:03.710565Z"
    }
   },
   "outputs": [],
   "source": [
    "india_mat = india.values\n",
    "uk_mat = uk.values\n",
    "usa_mat = usa.values"
   ]
  },
  {
   "cell_type": "code",
   "execution_count": 39,
   "metadata": {
    "ExecuteTime": {
     "end_time": "2019-04-29T09:57:04.904153Z",
     "start_time": "2019-04-29T09:57:04.685377Z"
    }
   },
   "outputs": [
    {
     "name": "stdout",
     "output_type": "stream",
     "text": [
      "Distance between India and UK: 4917.9762267450105\n",
      "Distance between India and USA: 3478.9266464043635\n",
      "Distance between UK and USA: 3498.851288948\n"
     ]
    }
   ],
   "source": [
    "distance, path = fastdtw(india_mat, uk_mat, dist=euclidean)\n",
    "print(\"Distance between India and UK:\", distance)\n",
    "\n",
    "distance, path = fastdtw(india_mat, usa_mat, dist=euclidean)\n",
    "print(\"Distance between India and USA:\", distance)\n",
    "\n",
    "distance, path = fastdtw(uk_mat, usa_mat, dist=euclidean)\n",
    "print(\"Distance between UK and USA:\", distance)"
   ]
  },
  {
   "cell_type": "markdown",
   "metadata": {},
   "source": [
    "### Last 1 year"
   ]
  },
  {
   "cell_type": "code",
   "execution_count": 40,
   "metadata": {
    "ExecuteTime": {
     "end_time": "2019-04-29T09:59:18.927969Z",
     "start_time": "2019-04-29T09:59:18.750532Z"
    }
   },
   "outputs": [],
   "source": [
    "india_mat = india[india.index.year==2018].values\n",
    "uk_mat = uk[uk.index.year==2018].values\n",
    "usa_mat = usa[usa.index.year==2018].values"
   ]
  },
  {
   "cell_type": "code",
   "execution_count": 41,
   "metadata": {
    "ExecuteTime": {
     "end_time": "2019-04-29T09:59:23.661252Z",
     "start_time": "2019-04-29T09:59:23.614387Z"
    }
   },
   "outputs": [
    {
     "name": "stdout",
     "output_type": "stream",
     "text": [
      "Distance between India and UK: 821.8489756911822\n",
      "Distance between India and USA: 625.7967125359412\n",
      "Distance between UK and USA: 593.955035876165\n"
     ]
    }
   ],
   "source": [
    "distance, path = fastdtw(india_mat, uk_mat, dist=euclidean)\n",
    "print(\"Distance between India and UK:\", distance)\n",
    "\n",
    "distance, path = fastdtw(india_mat, usa_mat, dist=euclidean)\n",
    "print(\"Distance between India and USA:\", distance)\n",
    "\n",
    "distance, path = fastdtw(uk_mat, usa_mat, dist=euclidean)\n",
    "print(\"Distance between UK and USA:\", distance)"
   ]
  },
  {
   "cell_type": "markdown",
   "metadata": {},
   "source": [
    "## TSLearn"
   ]
  },
  {
   "cell_type": "code",
   "execution_count": 63,
   "metadata": {
    "ExecuteTime": {
     "end_time": "2019-04-29T11:34:52.019962Z",
     "start_time": "2019-04-29T11:34:52.004336Z"
    }
   },
   "outputs": [],
   "source": [
    "# https://tslearn.readthedocs.io/en/latest/gen_modules/tslearn.metrics.html"
   ]
  },
  {
   "cell_type": "code",
   "execution_count": 64,
   "metadata": {
    "ExecuteTime": {
     "end_time": "2019-04-29T11:34:55.598314Z",
     "start_time": "2019-04-29T11:34:55.582729Z"
    }
   },
   "outputs": [],
   "source": [
    "from tslearn.metrics import dtw_path"
   ]
  },
  {
   "cell_type": "markdown",
   "metadata": {},
   "source": [
    "### Full Data"
   ]
  },
  {
   "cell_type": "code",
   "execution_count": 57,
   "metadata": {
    "ExecuteTime": {
     "end_time": "2019-04-29T11:27:27.247129Z",
     "start_time": "2019-04-29T11:27:27.216036Z"
    }
   },
   "outputs": [],
   "source": [
    "india_mat = india.values\n",
    "uk_mat = uk.values\n",
    "usa_mat = usa.values"
   ]
  },
  {
   "cell_type": "code",
   "execution_count": 58,
   "metadata": {
    "ExecuteTime": {
     "end_time": "2019-04-29T11:27:27.888782Z",
     "start_time": "2019-04-29T11:27:27.763963Z"
    }
   },
   "outputs": [
    {
     "name": "stdout",
     "output_type": "stream",
     "text": [
      "Distance between India and UK: 586.6208315428289\n",
      "Distance between India and USA: 399.17038968340324\n",
      "Distance between UK and USA: 427.67627944509616\n"
     ]
    }
   ],
   "source": [
    "path, distance = dtw_path(india_mat, uk_mat)\n",
    "print(\"Distance between India and UK:\", distance)\n",
    "\n",
    "path, distance = dtw_path(india_mat, usa_mat)\n",
    "print(\"Distance between India and USA:\", distance)\n",
    "\n",
    "path, distance = dtw_path(uk_mat, usa_mat)\n",
    "print(\"Distance between UK and USA:\", distance)"
   ]
  },
  {
   "cell_type": "markdown",
   "metadata": {},
   "source": [
    "### Last 1 year"
   ]
  },
  {
   "cell_type": "code",
   "execution_count": 59,
   "metadata": {
    "ExecuteTime": {
     "end_time": "2019-04-29T11:28:26.062137Z",
     "start_time": "2019-04-29T11:28:26.030866Z"
    }
   },
   "outputs": [],
   "source": [
    "india_mat = india[india.index.year==2018].values\n",
    "uk_mat = uk[uk.index.year==2018].values\n",
    "usa_mat = usa[usa.index.year==2018].values"
   ]
  },
  {
   "cell_type": "code",
   "execution_count": 60,
   "metadata": {
    "ExecuteTime": {
     "end_time": "2019-04-29T11:28:26.785203Z",
     "start_time": "2019-04-29T11:28:26.769584Z"
    }
   },
   "outputs": [
    {
     "name": "stdout",
     "output_type": "stream",
     "text": [
      "Distance between India and UK: 236.92825918408298\n",
      "Distance between India and USA: 187.36328348958875\n",
      "Distance between UK and USA: 173.38685071250356\n"
     ]
    }
   ],
   "source": [
    "path, distance = dtw_path(india_mat, uk_mat)\n",
    "print(\"Distance between India and UK:\", distance)\n",
    "\n",
    "path, distance = dtw_path(india_mat, usa_mat)\n",
    "print(\"Distance between India and USA:\", distance)\n",
    "\n",
    "path, distance = dtw_path(uk_mat, usa_mat)\n",
    "print(\"Distance between UK and USA:\", distance)"
   ]
  },
  {
   "cell_type": "markdown",
   "metadata": {},
   "source": [
    "# Averaging models"
   ]
  },
  {
   "cell_type": "code",
   "execution_count": 48,
   "metadata": {
    "ExecuteTime": {
     "end_time": "2019-04-29T11:11:22.812809Z",
     "start_time": "2019-04-29T11:11:22.781717Z"
    }
   },
   "outputs": [],
   "source": [
    "# https://tslearn.readthedocs.io/en/latest/gen_modules/tslearn.barycenters.html\n",
    "# https://blog.acolyer.org/2016/05/13/dynamic-time-warping-averaging-of-time-series-allows-faster-and-more-accurate-classification/"
   ]
  },
  {
   "cell_type": "markdown",
   "metadata": {},
   "source": [
    "# Clustering models"
   ]
  },
  {
   "cell_type": "markdown",
   "metadata": {},
   "source": [
    "## TimeSeriesKMeans"
   ]
  },
  {
   "cell_type": "code",
   "execution_count": 99,
   "metadata": {
    "ExecuteTime": {
     "end_time": "2019-04-29T12:12:59.902662Z",
     "start_time": "2019-04-29T12:12:59.887011Z"
    }
   },
   "outputs": [],
   "source": [
    "# https://tslearn.readthedocs.io/en/latest/gen_modules/tslearn.clustering.html"
   ]
  },
  {
   "cell_type": "code",
   "execution_count": 61,
   "metadata": {
    "ExecuteTime": {
     "end_time": "2019-04-29T11:34:02.324067Z",
     "start_time": "2019-04-29T11:33:59.208613Z"
    }
   },
   "outputs": [],
   "source": [
    "from tslearn.clustering import TimeSeriesKMeans"
   ]
  },
  {
   "cell_type": "markdown",
   "metadata": {},
   "source": [
    "### Full Data"
   ]
  },
  {
   "cell_type": "code",
   "execution_count": 72,
   "metadata": {
    "ExecuteTime": {
     "end_time": "2019-04-29T11:45:43.948333Z",
     "start_time": "2019-04-29T11:45:43.932661Z"
    },
    "scrolled": true
   },
   "outputs": [
    {
     "data": {
      "text/plain": [
       "array([[[0, 0, 0, 0],\n",
       "        [0, 0, 0, 0],\n",
       "        [0, 0, 0, 0],\n",
       "        ...,\n",
       "        [45, 39, 0, 38],\n",
       "        [70, 29, 0, 24],\n",
       "        [94, 55, 0, 23]],\n",
       "\n",
       "       [[0, 0, 0, 0],\n",
       "        [0, 0, 0, 0],\n",
       "        [0, 0, 0, 0],\n",
       "        ...,\n",
       "        [53, 39, 46, 0],\n",
       "        [58, 37, 34, 2],\n",
       "        [49, 28, 31, 3]],\n",
       "\n",
       "       [[0, 0, 0, '0'],\n",
       "        [0, 0, 0, '0'],\n",
       "        [0, 0, 0, '0'],\n",
       "        ...,\n",
       "        [90, 22, 8, '6'],\n",
       "        [94, 19, 8, '7'],\n",
       "        [100, 19, 9, '6']]], dtype=object)"
      ]
     },
     "execution_count": 72,
     "metadata": {},
     "output_type": "execute_result"
    }
   ],
   "source": [
    "india_mat = india.values\n",
    "uk_mat = uk.values\n",
    "usa_mat = usa.values\n",
    "\n",
    "all_mat = np.array([india_mat, uk_mat, usa_mat])\n",
    "all_mat"
   ]
  },
  {
   "cell_type": "code",
   "execution_count": 77,
   "metadata": {
    "ExecuteTime": {
     "end_time": "2019-04-29T11:49:11.940080Z",
     "start_time": "2019-04-29T11:49:11.908987Z"
    }
   },
   "outputs": [
    {
     "name": "stdout",
     "output_type": "stream",
     "text": [
      "(2, 184, 4)\n",
      "[0 1 0]\n"
     ]
    }
   ],
   "source": [
    "km = TimeSeriesKMeans(n_clusters=2, metric=\"euclidean\", max_iter=5, verbose=False, random_state=0).fit(all_mat)\n",
    "print(km.cluster_centers_.shape)\n",
    "print(km.labels_)"
   ]
  },
  {
   "cell_type": "code",
   "execution_count": 78,
   "metadata": {
    "ExecuteTime": {
     "end_time": "2019-04-29T11:49:54.238379Z",
     "start_time": "2019-04-29T11:49:52.475458Z"
    }
   },
   "outputs": [
    {
     "name": "stdout",
     "output_type": "stream",
     "text": [
      "(2, 184, 4)\n",
      "[0 1 0]\n"
     ]
    }
   ],
   "source": [
    "km = TimeSeriesKMeans(n_clusters=2, metric=\"dtw\", max_iter=5, verbose=False, random_state=0).fit(all_mat)\n",
    "print(km.cluster_centers_.shape)\n",
    "print(km.labels_)"
   ]
  },
  {
   "cell_type": "code",
   "execution_count": 79,
   "metadata": {
    "ExecuteTime": {
     "end_time": "2019-04-29T11:50:21.135442Z",
     "start_time": "2019-04-29T11:50:19.995080Z"
    }
   },
   "outputs": [
    {
     "name": "stdout",
     "output_type": "stream",
     "text": [
      "(2, 184, 4)\n",
      "[0 1 0]\n"
     ]
    }
   ],
   "source": [
    "km = TimeSeriesKMeans(n_clusters=2, metric=\"softdtw\", max_iter=5, verbose=False, random_state=0).fit(all_mat)\n",
    "print(km.cluster_centers_.shape)\n",
    "print(km.labels_)"
   ]
  },
  {
   "cell_type": "markdown",
   "metadata": {},
   "source": [
    "### Last 1 year"
   ]
  },
  {
   "cell_type": "code",
   "execution_count": 80,
   "metadata": {
    "ExecuteTime": {
     "end_time": "2019-04-29T11:51:35.872517Z",
     "start_time": "2019-04-29T11:51:35.841244Z"
    },
    "scrolled": true
   },
   "outputs": [
    {
     "data": {
      "text/plain": [
       "array([[[74, 57, 0, 50],\n",
       "        [85, 51, 0, 43],\n",
       "        [68, 77, 0, 30],\n",
       "        [85, 16, 0, 23],\n",
       "        [91, 29, 0, 14],\n",
       "        [35, 27, 0, 82],\n",
       "        [79, 40, 0, 39],\n",
       "        [55, 24, 0, 30],\n",
       "        [24, 25, 0, 55],\n",
       "        [45, 17, 0, 34],\n",
       "        [55, 31, 0, 49],\n",
       "        [67, 24, 0, 30]],\n",
       "\n",
       "       [[63, 43, 47, 2],\n",
       "        [55, 48, 44, 4],\n",
       "        [65, 27, 46, 8],\n",
       "        [47, 31, 59, 0],\n",
       "        [40, 24, 39, 0],\n",
       "        [53, 36, 33, 5],\n",
       "        [44, 19, 50, 2],\n",
       "        [77, 38, 55, 2],\n",
       "        [60, 36, 52, 5],\n",
       "        [58, 37, 40, 7],\n",
       "        [53, 22, 23, 5],\n",
       "        [60, 44, 49, 2]],\n",
       "\n",
       "       [[91, 18, 12, '4'],\n",
       "        [92, 16, 10, '3'],\n",
       "        [81, 15, 9, '3'],\n",
       "        [94, 20, 9, '4'],\n",
       "        [76, 23, 9, '4'],\n",
       "        [68, 19, 10, '4'],\n",
       "        [61, 16, 10, '4'],\n",
       "        [53, 26, 11, '2'],\n",
       "        [81, 31, 8, '4'],\n",
       "        [85, 23, 9, '4'],\n",
       "        [96, 23, 9, '6'],\n",
       "        [99, 24, 10, '5']]], dtype=object)"
      ]
     },
     "execution_count": 80,
     "metadata": {},
     "output_type": "execute_result"
    }
   ],
   "source": [
    "india_mat = india[india.index.year==2018].values\n",
    "uk_mat = uk[uk.index.year==2018].values\n",
    "usa_mat = usa[usa.index.year==2018].values\n",
    "\n",
    "all_mat = np.array([india_mat, uk_mat, usa_mat])\n",
    "all_mat"
   ]
  },
  {
   "cell_type": "code",
   "execution_count": 81,
   "metadata": {
    "ExecuteTime": {
     "end_time": "2019-04-29T11:51:58.822285Z",
     "start_time": "2019-04-29T11:51:58.806662Z"
    }
   },
   "outputs": [
    {
     "name": "stdout",
     "output_type": "stream",
     "text": [
      "(2, 12, 4)\n",
      "[0 1 1]\n"
     ]
    }
   ],
   "source": [
    "km = TimeSeriesKMeans(n_clusters=2, metric=\"euclidean\", max_iter=5, verbose=False, random_state=0).fit(all_mat)\n",
    "print(km.cluster_centers_.shape)\n",
    "print(km.labels_)"
   ]
  },
  {
   "cell_type": "code",
   "execution_count": 82,
   "metadata": {
    "ExecuteTime": {
     "end_time": "2019-04-29T11:52:02.240190Z",
     "start_time": "2019-04-29T11:52:02.177898Z"
    }
   },
   "outputs": [
    {
     "name": "stdout",
     "output_type": "stream",
     "text": [
      "(2, 12, 4)\n",
      "[0 1 1]\n"
     ]
    }
   ],
   "source": [
    "km = TimeSeriesKMeans(n_clusters=2, metric=\"dtw\", max_iter=5, verbose=False, random_state=0).fit(all_mat)\n",
    "print(km.cluster_centers_.shape)\n",
    "print(km.labels_)"
   ]
  },
  {
   "cell_type": "code",
   "execution_count": 83,
   "metadata": {
    "ExecuteTime": {
     "end_time": "2019-04-29T11:52:03.245391Z",
     "start_time": "2019-04-29T11:52:03.183097Z"
    }
   },
   "outputs": [
    {
     "name": "stdout",
     "output_type": "stream",
     "text": [
      "(2, 12, 4)\n",
      "[0 1 1]\n"
     ]
    }
   ],
   "source": [
    "km = TimeSeriesKMeans(n_clusters=2, metric=\"softdtw\", max_iter=5, verbose=False, random_state=0).fit(all_mat)\n",
    "print(km.cluster_centers_.shape)\n",
    "print(km.labels_)"
   ]
  },
  {
   "cell_type": "markdown",
   "metadata": {},
   "source": [
    "# Classification models"
   ]
  },
  {
   "cell_type": "markdown",
   "metadata": {},
   "source": [
    "## KNeighborsTimeSeriesClassifier"
   ]
  },
  {
   "cell_type": "code",
   "execution_count": 100,
   "metadata": {
    "ExecuteTime": {
     "end_time": "2019-04-29T12:14:08.029931Z",
     "start_time": "2019-04-29T12:14:08.014309Z"
    }
   },
   "outputs": [],
   "source": [
    "# https://tslearn.readthedocs.io/en/latest/auto_examples/plot_neighbors.html\n",
    "# https://tslearn.readthedocs.io/en/latest/gen_modules/tslearn.neighbors.html\n",
    "# https://github.com/markdregan/K-Nearest-Neighbors-with-Dynamic-Time-Warping"
   ]
  },
  {
   "cell_type": "code",
   "execution_count": 85,
   "metadata": {
    "ExecuteTime": {
     "end_time": "2019-04-29T12:01:50.003911Z",
     "start_time": "2019-04-29T12:01:49.972839Z"
    }
   },
   "outputs": [],
   "source": [
    "from tslearn.neighbors import KNeighborsTimeSeriesClassifier"
   ]
  },
  {
   "cell_type": "markdown",
   "metadata": {},
   "source": [
    "### Full Data"
   ]
  },
  {
   "cell_type": "code",
   "execution_count": 95,
   "metadata": {
    "ExecuteTime": {
     "end_time": "2019-04-29T12:12:07.951242Z",
     "start_time": "2019-04-29T12:12:07.920193Z"
    },
    "scrolled": true
   },
   "outputs": [],
   "source": [
    "india_mat = india.values\n",
    "uk_mat = uk.values\n",
    "usa_mat = usa.values"
   ]
  },
  {
   "cell_type": "code",
   "execution_count": 96,
   "metadata": {
    "ExecuteTime": {
     "end_time": "2019-04-29T12:12:08.815418Z",
     "start_time": "2019-04-29T12:12:08.690482Z"
    }
   },
   "outputs": [
    {
     "data": {
      "text/plain": [
       "array([0, 0, 0, 0, 0, 0, 0, 0, 0, 0, 0, 0, 0, 0, 0, 0, 0, 0, 0, 0, 0, 0,\n",
       "       0, 0, 0, 0, 0, 0, 0, 0, 0, 0, 0, 0, 0, 0, 0, 0, 0, 0, 0, 0, 0, 0,\n",
       "       0, 0, 0, 0, 0, 0, 0, 0, 0, 0, 0, 0, 0, 0, 0, 0, 0, 0, 0, 0, 0, 0,\n",
       "       0, 0, 0, 0, 0, 0, 0, 0, 0, 0, 0, 0, 0, 0, 0, 0, 0, 0, 0, 0, 0, 0,\n",
       "       0, 0, 0, 0, 0, 0, 0, 0, 0, 0, 0, 0, 0, 0, 0, 0, 0, 0, 0, 0, 0, 0,\n",
       "       0, 0, 0, 0, 0, 0, 0, 0, 0, 0, 0, 0, 0, 0, 0, 0, 0, 0, 0, 0, 0, 0,\n",
       "       0, 0, 0, 0, 0, 0, 0, 1, 1, 0, 1, 1, 0, 1, 0, 0, 1, 1, 1, 0, 0, 0,\n",
       "       0, 0, 0, 0, 0, 0, 0, 0, 0, 0, 0, 1, 1, 0, 0, 0, 0, 0, 0, 0, 0, 1,\n",
       "       0, 0, 0, 0, 0, 0, 0, 0])"
      ]
     },
     "execution_count": 96,
     "metadata": {},
     "output_type": "execute_result"
    }
   ],
   "source": [
    "clf = KNeighborsTimeSeriesClassifier(n_neighbors=1, metric=\"dtw\")\n",
    "clf.fit([india_mat, uk_mat], y=[0, 1])\n",
    "clf.predict(usa_mat)"
   ]
  },
  {
   "cell_type": "markdown",
   "metadata": {},
   "source": [
    "### Last 1 year"
   ]
  },
  {
   "cell_type": "code",
   "execution_count": 97,
   "metadata": {
    "ExecuteTime": {
     "end_time": "2019-04-29T12:12:12.164397Z",
     "start_time": "2019-04-29T12:12:12.148812Z"
    },
    "scrolled": true
   },
   "outputs": [],
   "source": [
    "india_mat = india[india.index.year==2018].values\n",
    "uk_mat = uk[uk.index.year==2018].values\n",
    "usa_mat = usa[usa.index.year==2018].values"
   ]
  },
  {
   "cell_type": "code",
   "execution_count": 98,
   "metadata": {
    "ExecuteTime": {
     "end_time": "2019-04-29T12:12:15.007864Z",
     "start_time": "2019-04-29T12:12:14.976620Z"
    }
   },
   "outputs": [
    {
     "data": {
      "text/plain": [
       "array([1, 1, 1, 1, 1, 1, 1, 1, 1, 1, 1, 1])"
      ]
     },
     "execution_count": 98,
     "metadata": {},
     "output_type": "execute_result"
    }
   ],
   "source": [
    "clf = KNeighborsTimeSeriesClassifier(n_neighbors=1, metric=\"dtw\")\n",
    "clf.fit([india_mat, uk_mat], y=[0, 1])\n",
    "clf.predict(usa_mat)"
   ]
  },
  {
   "cell_type": "code",
   "execution_count": null,
   "metadata": {},
   "outputs": [],
   "source": []
  }
 ],
 "metadata": {
  "kernelspec": {
   "display_name": "Python 3",
   "language": "python",
   "name": "python3"
  },
  "language_info": {
   "codemirror_mode": {
    "name": "ipython",
    "version": 3
   },
   "file_extension": ".py",
   "mimetype": "text/x-python",
   "name": "python",
   "nbconvert_exporter": "python",
   "pygments_lexer": "ipython3",
   "version": "3.6.6"
  },
  "toc": {
   "base_numbering": 1,
   "nav_menu": {},
   "number_sections": true,
   "sideBar": true,
   "skip_h1_title": false,
   "title_cell": "Table of Contents",
   "title_sidebar": "Contents",
   "toc_cell": false,
   "toc_position": {
    "height": "calc(100% - 180px)",
    "left": "10px",
    "top": "150px",
    "width": "250px"
   },
   "toc_section_display": true,
   "toc_window_display": true
  }
 },
 "nbformat": 4,
 "nbformat_minor": 2
}
