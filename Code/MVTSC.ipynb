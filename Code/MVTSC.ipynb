{
 "cells": [
  {
   "cell_type": "markdown",
   "metadata": {},
   "source": [
    "# Imports"
   ]
  },
  {
   "cell_type": "code",
   "execution_count": 1,
   "metadata": {
    "ExecuteTime": {
     "end_time": "2019-05-02T09:00:06.685517Z",
     "start_time": "2019-05-02T09:00:00.988491Z"
    }
   },
   "outputs": [
    {
     "name": "stderr",
     "output_type": "stream",
     "text": [
      "C:\\Users\\Kaushik\\Anaconda3\\lib\\site-packages\\h5py\\__init__.py:36: FutureWarning: Conversion of the second argument of issubdtype from `float` to `np.floating` is deprecated. In future, it will be treated as `np.float64 == np.dtype(float).type`.\n",
      "  from ._conv import register_converters as _register_converters\n",
      "Using TensorFlow backend.\n"
     ]
    }
   ],
   "source": [
    "import numpy as np\n",
    "import pandas as pd\n",
    "\n",
    "from scipy.spatial.distance import euclidean, cdist\n",
    "\n",
    "from keras.preprocessing import sequence\n",
    "import tensorflow as tf\n",
    "from keras.models import Sequential\n",
    "from keras.layers import Dense\n",
    "from keras.layers import LSTM\n",
    "\n",
    "from keras.optimizers import Adam\n",
    "from keras.models import load_model\n",
    "from keras.callbacks import ModelCheckpoint\n",
    "\n",
    "import matplotlib.pyplot as plt"
   ]
  },
  {
   "cell_type": "markdown",
   "metadata": {},
   "source": [
    "# Load the data"
   ]
  },
  {
   "cell_type": "code",
   "execution_count": 2,
   "metadata": {
    "ExecuteTime": {
     "end_time": "2019-05-02T09:00:12.945103Z",
     "start_time": "2019-05-02T09:00:12.117197Z"
    }
   },
   "outputs": [
    {
     "name": "stdout",
     "output_type": "stream",
     "text": [
      "what is vaping: (India)    int64\n",
      "is vaping safe: (India)    int64\n",
      "vaping shop: (India)       int64\n",
      "vaping device: (India)     int64\n",
      "dtype: object\n"
     ]
    },
    {
     "data": {
      "text/html": [
       "<div>\n",
       "<style scoped>\n",
       "    .dataframe tbody tr th:only-of-type {\n",
       "        vertical-align: middle;\n",
       "    }\n",
       "\n",
       "    .dataframe tbody tr th {\n",
       "        vertical-align: top;\n",
       "    }\n",
       "\n",
       "    .dataframe thead th {\n",
       "        text-align: right;\n",
       "    }\n",
       "</style>\n",
       "<table border=\"1\" class=\"dataframe\">\n",
       "  <thead>\n",
       "    <tr style=\"text-align: right;\">\n",
       "      <th></th>\n",
       "      <th>what is vaping: (India)</th>\n",
       "      <th>is vaping safe: (India)</th>\n",
       "      <th>vaping shop: (India)</th>\n",
       "      <th>vaping device: (India)</th>\n",
       "    </tr>\n",
       "    <tr>\n",
       "      <th>Month</th>\n",
       "      <th></th>\n",
       "      <th></th>\n",
       "      <th></th>\n",
       "      <th></th>\n",
       "    </tr>\n",
       "  </thead>\n",
       "  <tbody>\n",
       "    <tr>\n",
       "      <th>2004-01-01</th>\n",
       "      <td>0</td>\n",
       "      <td>0</td>\n",
       "      <td>0</td>\n",
       "      <td>0</td>\n",
       "    </tr>\n",
       "    <tr>\n",
       "      <th>2004-02-01</th>\n",
       "      <td>0</td>\n",
       "      <td>0</td>\n",
       "      <td>0</td>\n",
       "      <td>0</td>\n",
       "    </tr>\n",
       "    <tr>\n",
       "      <th>2004-03-01</th>\n",
       "      <td>0</td>\n",
       "      <td>0</td>\n",
       "      <td>0</td>\n",
       "      <td>0</td>\n",
       "    </tr>\n",
       "    <tr>\n",
       "      <th>2004-04-01</th>\n",
       "      <td>0</td>\n",
       "      <td>0</td>\n",
       "      <td>0</td>\n",
       "      <td>0</td>\n",
       "    </tr>\n",
       "    <tr>\n",
       "      <th>2004-05-01</th>\n",
       "      <td>0</td>\n",
       "      <td>0</td>\n",
       "      <td>0</td>\n",
       "      <td>0</td>\n",
       "    </tr>\n",
       "  </tbody>\n",
       "</table>\n",
       "</div>"
      ],
      "text/plain": [
       "            what is vaping: (India)  is vaping safe: (India)  \\\n",
       "Month                                                          \n",
       "2004-01-01                        0                        0   \n",
       "2004-02-01                        0                        0   \n",
       "2004-03-01                        0                        0   \n",
       "2004-04-01                        0                        0   \n",
       "2004-05-01                        0                        0   \n",
       "\n",
       "            vaping shop: (India)  vaping device: (India)  \n",
       "Month                                                     \n",
       "2004-01-01                     0                       0  \n",
       "2004-02-01                     0                       0  \n",
       "2004-03-01                     0                       0  \n",
       "2004-04-01                     0                       0  \n",
       "2004-05-01                     0                       0  "
      ]
     },
     "execution_count": 2,
     "metadata": {},
     "output_type": "execute_result"
    }
   ],
   "source": [
    "india = pd.read_csv(\"../Data/India.csv\", skiprows=2)\n",
    "india['Month'] = pd.to_datetime(india['Month'], infer_datetime_format=True)\n",
    "india = india.set_index(['Month'])\n",
    "india.sort_index(inplace=True)\n",
    "print(india.dtypes)\n",
    "india.head()"
   ]
  },
  {
   "cell_type": "code",
   "execution_count": 3,
   "metadata": {
    "ExecuteTime": {
     "end_time": "2019-05-02T09:00:13.511196Z",
     "start_time": "2019-05-02T09:00:13.417468Z"
    }
   },
   "outputs": [
    {
     "name": "stdout",
     "output_type": "stream",
     "text": [
      "what is vaping: (United Kingdom)    int64\n",
      "is vaping safe: (United Kingdom)    int64\n",
      "vaping shop: (United Kingdom)       int64\n",
      "vaping device: (United Kingdom)     int64\n",
      "dtype: object\n"
     ]
    },
    {
     "data": {
      "text/html": [
       "<div>\n",
       "<style scoped>\n",
       "    .dataframe tbody tr th:only-of-type {\n",
       "        vertical-align: middle;\n",
       "    }\n",
       "\n",
       "    .dataframe tbody tr th {\n",
       "        vertical-align: top;\n",
       "    }\n",
       "\n",
       "    .dataframe thead th {\n",
       "        text-align: right;\n",
       "    }\n",
       "</style>\n",
       "<table border=\"1\" class=\"dataframe\">\n",
       "  <thead>\n",
       "    <tr style=\"text-align: right;\">\n",
       "      <th></th>\n",
       "      <th>what is vaping: (United Kingdom)</th>\n",
       "      <th>is vaping safe: (United Kingdom)</th>\n",
       "      <th>vaping shop: (United Kingdom)</th>\n",
       "      <th>vaping device: (United Kingdom)</th>\n",
       "    </tr>\n",
       "    <tr>\n",
       "      <th>Month</th>\n",
       "      <th></th>\n",
       "      <th></th>\n",
       "      <th></th>\n",
       "      <th></th>\n",
       "    </tr>\n",
       "  </thead>\n",
       "  <tbody>\n",
       "    <tr>\n",
       "      <th>2004-01-01</th>\n",
       "      <td>0</td>\n",
       "      <td>0</td>\n",
       "      <td>0</td>\n",
       "      <td>0</td>\n",
       "    </tr>\n",
       "    <tr>\n",
       "      <th>2004-02-01</th>\n",
       "      <td>0</td>\n",
       "      <td>0</td>\n",
       "      <td>0</td>\n",
       "      <td>0</td>\n",
       "    </tr>\n",
       "    <tr>\n",
       "      <th>2004-03-01</th>\n",
       "      <td>0</td>\n",
       "      <td>0</td>\n",
       "      <td>0</td>\n",
       "      <td>0</td>\n",
       "    </tr>\n",
       "    <tr>\n",
       "      <th>2004-04-01</th>\n",
       "      <td>0</td>\n",
       "      <td>0</td>\n",
       "      <td>0</td>\n",
       "      <td>0</td>\n",
       "    </tr>\n",
       "    <tr>\n",
       "      <th>2004-05-01</th>\n",
       "      <td>0</td>\n",
       "      <td>0</td>\n",
       "      <td>0</td>\n",
       "      <td>0</td>\n",
       "    </tr>\n",
       "  </tbody>\n",
       "</table>\n",
       "</div>"
      ],
      "text/plain": [
       "            what is vaping: (United Kingdom)  \\\n",
       "Month                                          \n",
       "2004-01-01                                 0   \n",
       "2004-02-01                                 0   \n",
       "2004-03-01                                 0   \n",
       "2004-04-01                                 0   \n",
       "2004-05-01                                 0   \n",
       "\n",
       "            is vaping safe: (United Kingdom)  vaping shop: (United Kingdom)  \\\n",
       "Month                                                                         \n",
       "2004-01-01                                 0                              0   \n",
       "2004-02-01                                 0                              0   \n",
       "2004-03-01                                 0                              0   \n",
       "2004-04-01                                 0                              0   \n",
       "2004-05-01                                 0                              0   \n",
       "\n",
       "            vaping device: (United Kingdom)  \n",
       "Month                                        \n",
       "2004-01-01                                0  \n",
       "2004-02-01                                0  \n",
       "2004-03-01                                0  \n",
       "2004-04-01                                0  \n",
       "2004-05-01                                0  "
      ]
     },
     "execution_count": 3,
     "metadata": {},
     "output_type": "execute_result"
    }
   ],
   "source": [
    "uk = pd.read_csv(\"../Data/UK.csv\", skiprows=2)\n",
    "uk['Month'] = pd.to_datetime(uk['Month'], infer_datetime_format=True)\n",
    "uk = uk.set_index(['Month'])\n",
    "uk.sort_index(inplace=True)\n",
    "print(uk.dtypes)\n",
    "uk.head()"
   ]
  },
  {
   "cell_type": "code",
   "execution_count": 4,
   "metadata": {
    "ExecuteTime": {
     "end_time": "2019-05-02T09:00:14.057943Z",
     "start_time": "2019-05-02T09:00:13.995491Z"
    }
   },
   "outputs": [
    {
     "name": "stdout",
     "output_type": "stream",
     "text": [
      "what is vaping: (United States)     int64\n",
      "is vaping safe: (United States)     int64\n",
      "vaping shop: (United States)        int64\n",
      "vaping device: (United States)     object\n",
      "dtype: object\n"
     ]
    },
    {
     "data": {
      "text/html": [
       "<div>\n",
       "<style scoped>\n",
       "    .dataframe tbody tr th:only-of-type {\n",
       "        vertical-align: middle;\n",
       "    }\n",
       "\n",
       "    .dataframe tbody tr th {\n",
       "        vertical-align: top;\n",
       "    }\n",
       "\n",
       "    .dataframe thead th {\n",
       "        text-align: right;\n",
       "    }\n",
       "</style>\n",
       "<table border=\"1\" class=\"dataframe\">\n",
       "  <thead>\n",
       "    <tr style=\"text-align: right;\">\n",
       "      <th></th>\n",
       "      <th>what is vaping: (United States)</th>\n",
       "      <th>is vaping safe: (United States)</th>\n",
       "      <th>vaping shop: (United States)</th>\n",
       "      <th>vaping device: (United States)</th>\n",
       "    </tr>\n",
       "    <tr>\n",
       "      <th>Month</th>\n",
       "      <th></th>\n",
       "      <th></th>\n",
       "      <th></th>\n",
       "      <th></th>\n",
       "    </tr>\n",
       "  </thead>\n",
       "  <tbody>\n",
       "    <tr>\n",
       "      <th>2004-01-01</th>\n",
       "      <td>0</td>\n",
       "      <td>0</td>\n",
       "      <td>0</td>\n",
       "      <td>0</td>\n",
       "    </tr>\n",
       "    <tr>\n",
       "      <th>2004-02-01</th>\n",
       "      <td>0</td>\n",
       "      <td>0</td>\n",
       "      <td>0</td>\n",
       "      <td>0</td>\n",
       "    </tr>\n",
       "    <tr>\n",
       "      <th>2004-03-01</th>\n",
       "      <td>0</td>\n",
       "      <td>0</td>\n",
       "      <td>0</td>\n",
       "      <td>0</td>\n",
       "    </tr>\n",
       "    <tr>\n",
       "      <th>2004-04-01</th>\n",
       "      <td>0</td>\n",
       "      <td>0</td>\n",
       "      <td>0</td>\n",
       "      <td>0</td>\n",
       "    </tr>\n",
       "    <tr>\n",
       "      <th>2004-05-01</th>\n",
       "      <td>0</td>\n",
       "      <td>0</td>\n",
       "      <td>0</td>\n",
       "      <td>0</td>\n",
       "    </tr>\n",
       "  </tbody>\n",
       "</table>\n",
       "</div>"
      ],
      "text/plain": [
       "            what is vaping: (United States)  is vaping safe: (United States)  \\\n",
       "Month                                                                          \n",
       "2004-01-01                                0                                0   \n",
       "2004-02-01                                0                                0   \n",
       "2004-03-01                                0                                0   \n",
       "2004-04-01                                0                                0   \n",
       "2004-05-01                                0                                0   \n",
       "\n",
       "            vaping shop: (United States) vaping device: (United States)  \n",
       "Month                                                                    \n",
       "2004-01-01                             0                              0  \n",
       "2004-02-01                             0                              0  \n",
       "2004-03-01                             0                              0  \n",
       "2004-04-01                             0                              0  \n",
       "2004-05-01                             0                              0  "
      ]
     },
     "execution_count": 4,
     "metadata": {},
     "output_type": "execute_result"
    }
   ],
   "source": [
    "usa = pd.read_csv(\"../Data/USA.csv\", skiprows=2)\n",
    "usa['Month'] = pd.to_datetime(usa['Month'], infer_datetime_format=True)\n",
    "usa = usa.set_index(['Month'])\n",
    "usa.sort_index(inplace=True)\n",
    "print(usa.dtypes)\n",
    "usa.head()"
   ]
  },
  {
   "cell_type": "markdown",
   "metadata": {},
   "source": [
    "# Preprocess"
   ]
  },
  {
   "cell_type": "code",
   "execution_count": 5,
   "metadata": {
    "ExecuteTime": {
     "end_time": "2019-05-02T09:00:16.854391Z",
     "start_time": "2019-05-02T09:00:16.838769Z"
    }
   },
   "outputs": [],
   "source": [
    "usa.replace({'<1': 0}, inplace=True)"
   ]
  },
  {
   "cell_type": "markdown",
   "metadata": {},
   "source": [
    "# Similarity models"
   ]
  },
  {
   "cell_type": "markdown",
   "metadata": {},
   "source": [
    "## DTW"
   ]
  },
  {
   "cell_type": "code",
   "execution_count": 12,
   "metadata": {
    "ExecuteTime": {
     "end_time": "2019-05-02T09:09:04.838471Z",
     "start_time": "2019-05-02T09:09:04.822813Z"
    }
   },
   "outputs": [],
   "source": [
    "# https://nipunbatra.github.io/blog/2014/dtw.html"
   ]
  },
  {
   "cell_type": "markdown",
   "metadata": {},
   "source": [
    "## GAK"
   ]
  },
  {
   "cell_type": "code",
   "execution_count": 7,
   "metadata": {
    "ExecuteTime": {
     "end_time": "2019-04-30T10:20:26.218915Z",
     "start_time": "2019-04-30T10:20:25.951491Z"
    }
   },
   "outputs": [],
   "source": [
    "# https://web.sfc.wide.ad.jp/~kurosagi/public-posts/2017-04-11-global-alignment-kernels.html"
   ]
  },
  {
   "cell_type": "markdown",
   "metadata": {},
   "source": [
    "## FastDTW"
   ]
  },
  {
   "cell_type": "code",
   "execution_count": 8,
   "metadata": {
    "ExecuteTime": {
     "end_time": "2019-04-30T10:20:26.375308Z",
     "start_time": "2019-04-30T10:20:26.218915Z"
    }
   },
   "outputs": [],
   "source": [
    "# https://pypi.org/project/fastdtw/"
   ]
  },
  {
   "cell_type": "code",
   "execution_count": 9,
   "metadata": {
    "ExecuteTime": {
     "end_time": "2019-04-30T10:20:26.750217Z",
     "start_time": "2019-04-30T10:20:26.375308Z"
    }
   },
   "outputs": [],
   "source": [
    "from fastdtw import fastdtw"
   ]
  },
  {
   "cell_type": "markdown",
   "metadata": {},
   "source": [
    "### Full Data"
   ]
  },
  {
   "cell_type": "code",
   "execution_count": 10,
   "metadata": {
    "ExecuteTime": {
     "end_time": "2019-04-30T10:20:26.765645Z",
     "start_time": "2019-04-30T10:20:26.750217Z"
    }
   },
   "outputs": [],
   "source": [
    "india_mat = india.values\n",
    "uk_mat = uk.values\n",
    "usa_mat = usa.values"
   ]
  },
  {
   "cell_type": "code",
   "execution_count": 11,
   "metadata": {
    "ExecuteTime": {
     "end_time": "2019-04-30T10:20:27.845984Z",
     "start_time": "2019-04-30T10:20:26.765645Z"
    }
   },
   "outputs": [
    {
     "name": "stdout",
     "output_type": "stream",
     "text": [
      "Distance between India and UK: 4917.9762267450105\n",
      "Distance between India and USA: 3478.9266464043635\n",
      "Distance between UK and USA: 3498.851288948\n"
     ]
    }
   ],
   "source": [
    "distance, path = fastdtw(india_mat, uk_mat, dist=euclidean)\n",
    "print(\"Distance between India and UK:\", distance)\n",
    "\n",
    "distance, path = fastdtw(india_mat, usa_mat, dist=euclidean)\n",
    "print(\"Distance between India and USA:\", distance)\n",
    "\n",
    "distance, path = fastdtw(uk_mat, usa_mat, dist=euclidean)\n",
    "print(\"Distance between UK and USA:\", distance)"
   ]
  },
  {
   "cell_type": "markdown",
   "metadata": {},
   "source": [
    "### Last 1 year"
   ]
  },
  {
   "cell_type": "code",
   "execution_count": 12,
   "metadata": {
    "ExecuteTime": {
     "end_time": "2019-04-30T10:20:27.861547Z",
     "start_time": "2019-04-30T10:20:27.845984Z"
    }
   },
   "outputs": [],
   "source": [
    "india_mat = india[india.index.year==2018].values\n",
    "uk_mat = uk[uk.index.year==2018].values\n",
    "usa_mat = usa[usa.index.year==2018].values"
   ]
  },
  {
   "cell_type": "code",
   "execution_count": 13,
   "metadata": {
    "ExecuteTime": {
     "end_time": "2019-04-30T10:20:28.098216Z",
     "start_time": "2019-04-30T10:20:27.861547Z"
    }
   },
   "outputs": [
    {
     "name": "stdout",
     "output_type": "stream",
     "text": [
      "Distance between India and UK: 821.8489756911822\n",
      "Distance between India and USA: 625.7967125359412\n",
      "Distance between UK and USA: 593.955035876165\n"
     ]
    }
   ],
   "source": [
    "distance, path = fastdtw(india_mat, uk_mat, dist=euclidean)\n",
    "print(\"Distance between India and UK:\", distance)\n",
    "\n",
    "distance, path = fastdtw(india_mat, usa_mat, dist=euclidean)\n",
    "print(\"Distance between India and USA:\", distance)\n",
    "\n",
    "distance, path = fastdtw(uk_mat, usa_mat, dist=euclidean)\n",
    "print(\"Distance between UK and USA:\", distance)"
   ]
  },
  {
   "cell_type": "markdown",
   "metadata": {},
   "source": [
    "## TSLearn"
   ]
  },
  {
   "cell_type": "code",
   "execution_count": 14,
   "metadata": {
    "ExecuteTime": {
     "end_time": "2019-04-30T10:20:28.207565Z",
     "start_time": "2019-04-30T10:20:28.098216Z"
    }
   },
   "outputs": [],
   "source": [
    "# https://tslearn.readthedocs.io/en/latest/gen_modules/tslearn.metrics.html"
   ]
  },
  {
   "cell_type": "code",
   "execution_count": 15,
   "metadata": {
    "ExecuteTime": {
     "end_time": "2019-04-30T10:20:34.861285Z",
     "start_time": "2019-04-30T10:20:28.207565Z"
    }
   },
   "outputs": [],
   "source": [
    "from tslearn.metrics import dtw_path"
   ]
  },
  {
   "cell_type": "markdown",
   "metadata": {},
   "source": [
    "### Full Data"
   ]
  },
  {
   "cell_type": "code",
   "execution_count": 16,
   "metadata": {
    "ExecuteTime": {
     "end_time": "2019-04-30T10:20:34.876759Z",
     "start_time": "2019-04-30T10:20:34.861285Z"
    }
   },
   "outputs": [],
   "source": [
    "india_mat = india.values\n",
    "uk_mat = uk.values\n",
    "usa_mat = usa.values"
   ]
  },
  {
   "cell_type": "code",
   "execution_count": 17,
   "metadata": {
    "ExecuteTime": {
     "end_time": "2019-04-30T10:20:35.093299Z",
     "start_time": "2019-04-30T10:20:34.876759Z"
    }
   },
   "outputs": [
    {
     "name": "stdout",
     "output_type": "stream",
     "text": [
      "Distance between India and UK: 586.6208315428289\n",
      "Distance between India and USA: 399.17038968340324\n",
      "Distance between UK and USA: 427.67627944509616\n"
     ]
    }
   ],
   "source": [
    "path, distance = dtw_path(india_mat, uk_mat)\n",
    "print(\"Distance between India and UK:\", distance)\n",
    "\n",
    "path, distance = dtw_path(india_mat, usa_mat)\n",
    "print(\"Distance between India and USA:\", distance)\n",
    "\n",
    "path, distance = dtw_path(uk_mat, usa_mat)\n",
    "print(\"Distance between UK and USA:\", distance)"
   ]
  },
  {
   "cell_type": "markdown",
   "metadata": {},
   "source": [
    "### Last 1 year"
   ]
  },
  {
   "cell_type": "code",
   "execution_count": 18,
   "metadata": {
    "ExecuteTime": {
     "end_time": "2019-04-30T10:20:35.155856Z",
     "start_time": "2019-04-30T10:20:35.093299Z"
    }
   },
   "outputs": [],
   "source": [
    "india_mat = india[india.index.year==2018].values\n",
    "uk_mat = uk[uk.index.year==2018].values\n",
    "usa_mat = usa[usa.index.year==2018].values"
   ]
  },
  {
   "cell_type": "code",
   "execution_count": 19,
   "metadata": {
    "ExecuteTime": {
     "end_time": "2019-04-30T10:20:35.327710Z",
     "start_time": "2019-04-30T10:20:35.155856Z"
    }
   },
   "outputs": [
    {
     "name": "stdout",
     "output_type": "stream",
     "text": [
      "Distance between India and UK: 236.92825918408298\n",
      "Distance between India and USA: 187.36328348958875\n",
      "Distance between UK and USA: 173.38685071250356\n"
     ]
    }
   ],
   "source": [
    "path, distance = dtw_path(india_mat, uk_mat)\n",
    "print(\"Distance between India and UK:\", distance)\n",
    "\n",
    "path, distance = dtw_path(india_mat, usa_mat)\n",
    "print(\"Distance between India and USA:\", distance)\n",
    "\n",
    "path, distance = dtw_path(uk_mat, usa_mat)\n",
    "print(\"Distance between UK and USA:\", distance)"
   ]
  },
  {
   "cell_type": "markdown",
   "metadata": {},
   "source": [
    "# Averaging models"
   ]
  },
  {
   "cell_type": "code",
   "execution_count": 20,
   "metadata": {
    "ExecuteTime": {
     "end_time": "2019-04-30T10:20:35.499513Z",
     "start_time": "2019-04-30T10:20:35.327710Z"
    }
   },
   "outputs": [],
   "source": [
    "# https://tslearn.readthedocs.io/en/latest/gen_modules/tslearn.barycenters.html\n",
    "# https://blog.acolyer.org/2016/05/13/dynamic-time-warping-averaging-of-time-series-allows-faster-and-more-accurate-classification/"
   ]
  },
  {
   "cell_type": "markdown",
   "metadata": {},
   "source": [
    "# Clustering models"
   ]
  },
  {
   "cell_type": "markdown",
   "metadata": {},
   "source": [
    "## TimeSeriesKMeans"
   ]
  },
  {
   "cell_type": "code",
   "execution_count": 21,
   "metadata": {
    "ExecuteTime": {
     "end_time": "2019-04-30T10:20:35.733699Z",
     "start_time": "2019-04-30T10:20:35.499513Z"
    }
   },
   "outputs": [],
   "source": [
    "# https://tslearn.readthedocs.io/en/latest/gen_modules/tslearn.clustering.html"
   ]
  },
  {
   "cell_type": "code",
   "execution_count": 22,
   "metadata": {
    "ExecuteTime": {
     "end_time": "2019-04-30T10:20:39.081168Z",
     "start_time": "2019-04-30T10:20:35.733699Z"
    }
   },
   "outputs": [],
   "source": [
    "from tslearn.clustering import TimeSeriesKMeans"
   ]
  },
  {
   "cell_type": "markdown",
   "metadata": {},
   "source": [
    "### Full Data"
   ]
  },
  {
   "cell_type": "code",
   "execution_count": 23,
   "metadata": {
    "ExecuteTime": {
     "end_time": "2019-04-30T10:20:39.096605Z",
     "start_time": "2019-04-30T10:20:39.081168Z"
    },
    "scrolled": true
   },
   "outputs": [
    {
     "data": {
      "text/plain": [
       "array([[[0, 0, 0, 0],\n",
       "        [0, 0, 0, 0],\n",
       "        [0, 0, 0, 0],\n",
       "        ...,\n",
       "        [45, 39, 0, 38],\n",
       "        [70, 29, 0, 24],\n",
       "        [94, 55, 0, 23]],\n",
       "\n",
       "       [[0, 0, 0, 0],\n",
       "        [0, 0, 0, 0],\n",
       "        [0, 0, 0, 0],\n",
       "        ...,\n",
       "        [53, 39, 46, 0],\n",
       "        [58, 37, 34, 2],\n",
       "        [49, 28, 31, 3]],\n",
       "\n",
       "       [[0, 0, 0, '0'],\n",
       "        [0, 0, 0, '0'],\n",
       "        [0, 0, 0, '0'],\n",
       "        ...,\n",
       "        [90, 22, 8, '6'],\n",
       "        [94, 19, 8, '7'],\n",
       "        [100, 19, 9, '6']]], dtype=object)"
      ]
     },
     "execution_count": 23,
     "metadata": {},
     "output_type": "execute_result"
    }
   ],
   "source": [
    "india_mat = india.values\n",
    "uk_mat = uk.values\n",
    "usa_mat = usa.values\n",
    "\n",
    "all_mat = np.array([india_mat, uk_mat, usa_mat])\n",
    "all_mat"
   ]
  },
  {
   "cell_type": "code",
   "execution_count": 24,
   "metadata": {
    "ExecuteTime": {
     "end_time": "2019-04-30T10:20:39.549621Z",
     "start_time": "2019-04-30T10:20:39.096605Z"
    }
   },
   "outputs": [
    {
     "name": "stdout",
     "output_type": "stream",
     "text": [
      "(2, 184, 4)\n",
      "[0 1 0]\n"
     ]
    }
   ],
   "source": [
    "km = TimeSeriesKMeans(n_clusters=2, metric=\"euclidean\", max_iter=5, verbose=False, random_state=0).fit(all_mat)\n",
    "print(km.cluster_centers_.shape)\n",
    "print(km.labels_)"
   ]
  },
  {
   "cell_type": "code",
   "execution_count": 25,
   "metadata": {
    "ExecuteTime": {
     "end_time": "2019-04-30T10:20:41.889033Z",
     "start_time": "2019-04-30T10:20:39.549621Z"
    }
   },
   "outputs": [
    {
     "name": "stdout",
     "output_type": "stream",
     "text": [
      "(2, 184, 4)\n",
      "[0 1 0]\n"
     ]
    }
   ],
   "source": [
    "km = TimeSeriesKMeans(n_clusters=2, metric=\"dtw\", max_iter=5, verbose=False, random_state=0).fit(all_mat)\n",
    "print(km.cluster_centers_.shape)\n",
    "print(km.labels_)"
   ]
  },
  {
   "cell_type": "code",
   "execution_count": 26,
   "metadata": {
    "ExecuteTime": {
     "end_time": "2019-04-30T10:20:43.957551Z",
     "start_time": "2019-04-30T10:20:41.889033Z"
    }
   },
   "outputs": [
    {
     "name": "stdout",
     "output_type": "stream",
     "text": [
      "(2, 184, 4)\n",
      "[0 1 0]\n"
     ]
    }
   ],
   "source": [
    "km = TimeSeriesKMeans(n_clusters=2, metric=\"softdtw\", max_iter=5, verbose=False, random_state=0).fit(all_mat)\n",
    "print(km.cluster_centers_.shape)\n",
    "print(km.labels_)"
   ]
  },
  {
   "cell_type": "markdown",
   "metadata": {},
   "source": [
    "### Last 1 year"
   ]
  },
  {
   "cell_type": "code",
   "execution_count": 27,
   "metadata": {
    "ExecuteTime": {
     "end_time": "2019-04-30T10:20:43.988791Z",
     "start_time": "2019-04-30T10:20:43.957551Z"
    },
    "scrolled": true
   },
   "outputs": [
    {
     "data": {
      "text/plain": [
       "array([[[74, 57, 0, 50],\n",
       "        [85, 51, 0, 43],\n",
       "        [68, 77, 0, 30],\n",
       "        [85, 16, 0, 23],\n",
       "        [91, 29, 0, 14],\n",
       "        [35, 27, 0, 82],\n",
       "        [79, 40, 0, 39],\n",
       "        [55, 24, 0, 30],\n",
       "        [24, 25, 0, 55],\n",
       "        [45, 17, 0, 34],\n",
       "        [55, 31, 0, 49],\n",
       "        [67, 24, 0, 30]],\n",
       "\n",
       "       [[63, 43, 47, 2],\n",
       "        [55, 48, 44, 4],\n",
       "        [65, 27, 46, 8],\n",
       "        [47, 31, 59, 0],\n",
       "        [40, 24, 39, 0],\n",
       "        [53, 36, 33, 5],\n",
       "        [44, 19, 50, 2],\n",
       "        [77, 38, 55, 2],\n",
       "        [60, 36, 52, 5],\n",
       "        [58, 37, 40, 7],\n",
       "        [53, 22, 23, 5],\n",
       "        [60, 44, 49, 2]],\n",
       "\n",
       "       [[91, 18, 12, '4'],\n",
       "        [92, 16, 10, '3'],\n",
       "        [81, 15, 9, '3'],\n",
       "        [94, 20, 9, '4'],\n",
       "        [76, 23, 9, '4'],\n",
       "        [68, 19, 10, '4'],\n",
       "        [61, 16, 10, '4'],\n",
       "        [53, 26, 11, '2'],\n",
       "        [81, 31, 8, '4'],\n",
       "        [85, 23, 9, '4'],\n",
       "        [96, 23, 9, '6'],\n",
       "        [99, 24, 10, '5']]], dtype=object)"
      ]
     },
     "execution_count": 27,
     "metadata": {},
     "output_type": "execute_result"
    }
   ],
   "source": [
    "india_mat = india[india.index.year==2018].values\n",
    "uk_mat = uk[uk.index.year==2018].values\n",
    "usa_mat = usa[usa.index.year==2018].values\n",
    "\n",
    "all_mat = np.array([india_mat, uk_mat, usa_mat])\n",
    "all_mat"
   ]
  },
  {
   "cell_type": "code",
   "execution_count": 28,
   "metadata": {
    "ExecuteTime": {
     "end_time": "2019-04-30T10:20:45.088263Z",
     "start_time": "2019-04-30T10:20:43.988791Z"
    }
   },
   "outputs": [
    {
     "name": "stdout",
     "output_type": "stream",
     "text": [
      "(2, 12, 4)\n",
      "[0 1 1]\n"
     ]
    }
   ],
   "source": [
    "km = TimeSeriesKMeans(n_clusters=2, metric=\"euclidean\", max_iter=5, verbose=False, random_state=0).fit(all_mat)\n",
    "print(km.cluster_centers_.shape)\n",
    "print(km.labels_)"
   ]
  },
  {
   "cell_type": "code",
   "execution_count": 29,
   "metadata": {
    "ExecuteTime": {
     "end_time": "2019-04-30T10:20:45.400717Z",
     "start_time": "2019-04-30T10:20:45.088263Z"
    }
   },
   "outputs": [
    {
     "name": "stdout",
     "output_type": "stream",
     "text": [
      "(2, 12, 4)\n",
      "[0 1 1]\n"
     ]
    }
   ],
   "source": [
    "km = TimeSeriesKMeans(n_clusters=2, metric=\"dtw\", max_iter=5, verbose=False, random_state=0).fit(all_mat)\n",
    "print(km.cluster_centers_.shape)\n",
    "print(km.labels_)"
   ]
  },
  {
   "cell_type": "code",
   "execution_count": 30,
   "metadata": {
    "ExecuteTime": {
     "end_time": "2019-04-30T10:20:45.556935Z",
     "start_time": "2019-04-30T10:20:45.400717Z"
    }
   },
   "outputs": [
    {
     "name": "stdout",
     "output_type": "stream",
     "text": [
      "(2, 12, 4)\n",
      "[0 1 1]\n"
     ]
    }
   ],
   "source": [
    "km = TimeSeriesKMeans(n_clusters=2, metric=\"softdtw\", max_iter=5, verbose=False, random_state=0).fit(all_mat)\n",
    "print(km.cluster_centers_.shape)\n",
    "print(km.labels_)"
   ]
  },
  {
   "cell_type": "markdown",
   "metadata": {},
   "source": [
    "# Classification models"
   ]
  },
  {
   "cell_type": "markdown",
   "metadata": {},
   "source": [
    "## DTW + 1-NN"
   ]
  },
  {
   "cell_type": "code",
   "execution_count": 14,
   "metadata": {
    "ExecuteTime": {
     "end_time": "2019-05-02T09:10:06.897983Z",
     "start_time": "2019-05-02T09:10:06.882578Z"
    }
   },
   "outputs": [],
   "source": [
    "# https://stats.stackexchange.com/questions/323571/how-to-classify-m-multivariate-time-series-into-k-known-categories\n",
    "# https://github.com/alexminnaar/time-series-classification-and-clustering"
   ]
  },
  {
   "cell_type": "markdown",
   "metadata": {},
   "source": [
    "## KNeighborsTimeSeriesClassifier"
   ]
  },
  {
   "cell_type": "code",
   "execution_count": 31,
   "metadata": {
    "ExecuteTime": {
     "end_time": "2019-04-30T10:20:45.635006Z",
     "start_time": "2019-04-30T10:20:45.556935Z"
    }
   },
   "outputs": [],
   "source": [
    "# https://tslearn.readthedocs.io/en/latest/auto_examples/plot_neighbors.html\n",
    "# https://tslearn.readthedocs.io/en/latest/gen_modules/tslearn.neighbors.html\n",
    "# https://github.com/markdregan/K-Nearest-Neighbors-with-Dynamic-Time-Warping"
   ]
  },
  {
   "cell_type": "code",
   "execution_count": 32,
   "metadata": {
    "ExecuteTime": {
     "end_time": "2019-04-30T10:20:45.791254Z",
     "start_time": "2019-04-30T10:20:45.635006Z"
    }
   },
   "outputs": [],
   "source": [
    "from tslearn.neighbors import KNeighborsTimeSeriesClassifier"
   ]
  },
  {
   "cell_type": "markdown",
   "metadata": {},
   "source": [
    "### Full Data"
   ]
  },
  {
   "cell_type": "code",
   "execution_count": 33,
   "metadata": {
    "ExecuteTime": {
     "end_time": "2019-04-30T10:20:45.947282Z",
     "start_time": "2019-04-30T10:20:45.791254Z"
    },
    "scrolled": true
   },
   "outputs": [],
   "source": [
    "india_mat = india.values\n",
    "uk_mat = uk.values\n",
    "usa_mat = usa.values"
   ]
  },
  {
   "cell_type": "code",
   "execution_count": 34,
   "metadata": {
    "ExecuteTime": {
     "end_time": "2019-04-30T10:20:46.228547Z",
     "start_time": "2019-04-30T10:20:45.947282Z"
    }
   },
   "outputs": [
    {
     "data": {
      "text/plain": [
       "array([0, 0, 0, 0, 0, 0, 0, 0, 0, 0, 0, 0, 0, 0, 0, 0, 0, 0, 0, 0, 0, 0,\n",
       "       0, 0, 0, 0, 0, 0, 0, 0, 0, 0, 0, 0, 0, 0, 0, 0, 0, 0, 0, 0, 0, 0,\n",
       "       0, 0, 0, 0, 0, 0, 0, 0, 0, 0, 0, 0, 0, 0, 0, 0, 0, 0, 0, 0, 0, 0,\n",
       "       0, 0, 0, 0, 0, 0, 0, 0, 0, 0, 0, 0, 0, 0, 0, 0, 0, 0, 0, 0, 0, 0,\n",
       "       0, 0, 0, 0, 0, 0, 0, 0, 0, 0, 0, 0, 0, 0, 0, 0, 0, 0, 0, 0, 0, 0,\n",
       "       0, 0, 0, 0, 0, 0, 0, 0, 0, 0, 0, 0, 0, 0, 0, 0, 0, 0, 0, 0, 0, 0,\n",
       "       0, 0, 0, 0, 0, 0, 0, 1, 1, 0, 1, 1, 0, 1, 0, 0, 1, 1, 1, 0, 0, 0,\n",
       "       0, 0, 0, 0, 0, 0, 0, 0, 0, 0, 0, 1, 1, 0, 0, 0, 0, 0, 0, 0, 0, 1,\n",
       "       0, 0, 0, 0, 0, 0, 0, 0])"
      ]
     },
     "execution_count": 34,
     "metadata": {},
     "output_type": "execute_result"
    }
   ],
   "source": [
    "clf = KNeighborsTimeSeriesClassifier(n_neighbors=1, metric=\"dtw\")\n",
    "clf.fit([india_mat, uk_mat], y=[0, 1])\n",
    "clf.predict(usa_mat)"
   ]
  },
  {
   "cell_type": "markdown",
   "metadata": {},
   "source": [
    "### Last 1 year"
   ]
  },
  {
   "cell_type": "code",
   "execution_count": 35,
   "metadata": {
    "ExecuteTime": {
     "end_time": "2019-04-30T10:20:46.259757Z",
     "start_time": "2019-04-30T10:20:46.228547Z"
    },
    "scrolled": true
   },
   "outputs": [],
   "source": [
    "india_mat = india[india.index.year==2018].values\n",
    "uk_mat = uk[uk.index.year==2018].values\n",
    "usa_mat = usa[usa.index.year==2018].values"
   ]
  },
  {
   "cell_type": "code",
   "execution_count": 36,
   "metadata": {
    "ExecuteTime": {
     "end_time": "2019-04-30T10:20:46.415920Z",
     "start_time": "2019-04-30T10:20:46.259757Z"
    }
   },
   "outputs": [
    {
     "data": {
      "text/plain": [
       "array([1, 1, 1, 1, 1, 1, 1, 1, 1, 1, 1, 1])"
      ]
     },
     "execution_count": 36,
     "metadata": {},
     "output_type": "execute_result"
    }
   ],
   "source": [
    "clf = KNeighborsTimeSeriesClassifier(n_neighbors=1, metric=\"dtw\")\n",
    "clf.fit([india_mat, uk_mat], y=[0, 1])\n",
    "clf.predict(usa_mat)"
   ]
  },
  {
   "cell_type": "markdown",
   "metadata": {},
   "source": [
    "## LSTM"
   ]
  },
  {
   "cell_type": "code",
   "execution_count": 10,
   "metadata": {
    "ExecuteTime": {
     "end_time": "2019-05-02T09:04:12.490708Z",
     "start_time": "2019-05-02T09:04:12.475277Z"
    }
   },
   "outputs": [],
   "source": [
    "# https://www.analyticsvidhya.com/blog/2019/01/introduction-time-series-classification/"
   ]
  },
  {
   "cell_type": "markdown",
   "metadata": {},
   "source": [
    "## SFA"
   ]
  },
  {
   "cell_type": "code",
   "execution_count": 15,
   "metadata": {
    "ExecuteTime": {
     "end_time": "2019-05-02T09:11:39.154548Z",
     "start_time": "2019-05-02T09:11:39.123459Z"
    }
   },
   "outputs": [],
   "source": [
    "# https://github.com/patrickzib/SFA"
   ]
  },
  {
   "cell_type": "code",
   "execution_count": null,
   "metadata": {},
   "outputs": [],
   "source": []
  }
 ],
 "metadata": {
  "kernelspec": {
   "display_name": "Python 3",
   "language": "python",
   "name": "python3"
  },
  "language_info": {
   "codemirror_mode": {
    "name": "ipython",
    "version": 3
   },
   "file_extension": ".py",
   "mimetype": "text/x-python",
   "name": "python",
   "nbconvert_exporter": "python",
   "pygments_lexer": "ipython3",
   "version": "3.6.6"
  },
  "toc": {
   "base_numbering": 1,
   "nav_menu": {},
   "number_sections": true,
   "sideBar": true,
   "skip_h1_title": false,
   "title_cell": "Table of Contents",
   "title_sidebar": "Contents",
   "toc_cell": false,
   "toc_position": {
    "height": "calc(100% - 180px)",
    "left": "10px",
    "top": "150px",
    "width": "250px"
   },
   "toc_section_display": true,
   "toc_window_display": true
  }
 },
 "nbformat": 4,
 "nbformat_minor": 2
}
